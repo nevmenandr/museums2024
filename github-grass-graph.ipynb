{
 "cells": [
  {
   "cell_type": "code",
   "execution_count": 1,
   "metadata": {},
   "outputs": [],
   "source": [
    "import pandas as pd\n",
    "import numpy as np\n",
    "import datetime as dt\n",
    "from datetime import datetime"
   ]
  },
  {
   "cell_type": "code",
   "execution_count": 61,
   "metadata": {},
   "outputs": [
    {
     "data": {
      "text/html": [
       "<div>\n",
       "<style scoped>\n",
       "    .dataframe tbody tr th:only-of-type {\n",
       "        vertical-align: middle;\n",
       "    }\n",
       "\n",
       "    .dataframe tbody tr th {\n",
       "        vertical-align: top;\n",
       "    }\n",
       "\n",
       "    .dataframe thead th {\n",
       "        text-align: right;\n",
       "    }\n",
       "</style>\n",
       "<table border=\"1\" class=\"dataframe\">\n",
       "  <thead>\n",
       "    <tr style=\"text-align: right;\">\n",
       "      <th></th>\n",
       "      <th>date</th>\n",
       "      <th>museum</th>\n",
       "    </tr>\n",
       "  </thead>\n",
       "  <tbody>\n",
       "    <tr>\n",
       "      <th>0</th>\n",
       "      <td>2024-01-01</td>\n",
       "      <td>0</td>\n",
       "    </tr>\n",
       "    <tr>\n",
       "      <th>1</th>\n",
       "      <td>2024-01-02</td>\n",
       "      <td>0</td>\n",
       "    </tr>\n",
       "    <tr>\n",
       "      <th>2</th>\n",
       "      <td>2024-01-03</td>\n",
       "      <td>0</td>\n",
       "    </tr>\n",
       "    <tr>\n",
       "      <th>3</th>\n",
       "      <td>2024-01-04</td>\n",
       "      <td>0</td>\n",
       "    </tr>\n",
       "    <tr>\n",
       "      <th>4</th>\n",
       "      <td>2024-01-05</td>\n",
       "      <td>0</td>\n",
       "    </tr>\n",
       "  </tbody>\n",
       "</table>\n",
       "</div>"
      ],
      "text/plain": [
       "        date  museum\n",
       "0 2024-01-01       0\n",
       "1 2024-01-02       0\n",
       "2 2024-01-03       0\n",
       "3 2024-01-04       0\n",
       "4 2024-01-05       0"
      ]
     },
     "execution_count": 61,
     "metadata": {},
     "output_type": "execute_result"
    }
   ],
   "source": [
    "dateparse = lambda x: datetime.strptime(x, '%d.%m.%Y')\n",
    "data = pd.read_csv('museum-calendar.csv', parse_dates=['date'], date_parser=dateparse)\n",
    "data.head()"
   ]
  },
  {
   "cell_type": "code",
   "execution_count": 56,
   "metadata": {},
   "outputs": [
    {
     "data": {
      "text/html": [
       "<div>\n",
       "<style scoped>\n",
       "    .dataframe tbody tr th:only-of-type {\n",
       "        vertical-align: middle;\n",
       "    }\n",
       "\n",
       "    .dataframe tbody tr th {\n",
       "        vertical-align: top;\n",
       "    }\n",
       "\n",
       "    .dataframe thead th {\n",
       "        text-align: right;\n",
       "    }\n",
       "</style>\n",
       "<table border=\"1\" class=\"dataframe\">\n",
       "  <thead>\n",
       "    <tr style=\"text-align: right;\">\n",
       "      <th></th>\n",
       "      <th>date</th>\n",
       "      <th>museum</th>\n",
       "    </tr>\n",
       "  </thead>\n",
       "  <tbody>\n",
       "    <tr>\n",
       "      <th>0</th>\n",
       "      <td>2024-01-01</td>\n",
       "      <td>0</td>\n",
       "    </tr>\n",
       "    <tr>\n",
       "      <th>1</th>\n",
       "      <td>2024-01-02</td>\n",
       "      <td>0</td>\n",
       "    </tr>\n",
       "    <tr>\n",
       "      <th>2</th>\n",
       "      <td>2024-01-03</td>\n",
       "      <td>0</td>\n",
       "    </tr>\n",
       "    <tr>\n",
       "      <th>3</th>\n",
       "      <td>2024-01-04</td>\n",
       "      <td>0</td>\n",
       "    </tr>\n",
       "    <tr>\n",
       "      <th>4</th>\n",
       "      <td>2024-01-05</td>\n",
       "      <td>0</td>\n",
       "    </tr>\n",
       "    <tr>\n",
       "      <th>...</th>\n",
       "      <td>...</td>\n",
       "      <td>...</td>\n",
       "    </tr>\n",
       "    <tr>\n",
       "      <th>361</th>\n",
       "      <td>2024-12-27</td>\n",
       "      <td>0</td>\n",
       "    </tr>\n",
       "    <tr>\n",
       "      <th>362</th>\n",
       "      <td>2024-12-28</td>\n",
       "      <td>0</td>\n",
       "    </tr>\n",
       "    <tr>\n",
       "      <th>363</th>\n",
       "      <td>2024-12-29</td>\n",
       "      <td>0</td>\n",
       "    </tr>\n",
       "    <tr>\n",
       "      <th>364</th>\n",
       "      <td>2024-12-30</td>\n",
       "      <td>0</td>\n",
       "    </tr>\n",
       "    <tr>\n",
       "      <th>365</th>\n",
       "      <td>2024-12-31</td>\n",
       "      <td>0</td>\n",
       "    </tr>\n",
       "  </tbody>\n",
       "</table>\n",
       "<p>366 rows × 2 columns</p>\n",
       "</div>"
      ],
      "text/plain": [
       "          date  museum\n",
       "0   2024-01-01       0\n",
       "1   2024-01-02       0\n",
       "2   2024-01-03       0\n",
       "3   2024-01-04       0\n",
       "4   2024-01-05       0\n",
       "..         ...     ...\n",
       "361 2024-12-27       0\n",
       "362 2024-12-28       0\n",
       "363 2024-12-29       0\n",
       "364 2024-12-30       0\n",
       "365 2024-12-31       0\n",
       "\n",
       "[366 rows x 2 columns]"
      ]
     },
     "execution_count": 56,
     "metadata": {},
     "output_type": "execute_result"
    }
   ],
   "source": [
    "data"
   ]
  },
  {
   "cell_type": "code",
   "execution_count": 4,
   "metadata": {},
   "outputs": [],
   "source": [
    "#Importing the seaborn library along with other dependencies\n",
    "import seaborn as sns\n",
    "import matplotlib.pyplot as plt\n",
    "import datetime as dt\n",
    "from datetime import datetime"
   ]
  },
  {
   "cell_type": "code",
   "execution_count": 57,
   "metadata": {},
   "outputs": [],
   "source": [
    "# Creating new features from the data\n",
    "data['year'] = data.date.dt.year\n",
    "data['month'] = data.date.dt.month\n",
    "data['Weekday'] = data.date.dt.day_name()"
   ]
  },
  {
   "cell_type": "code",
   "execution_count": 58,
   "metadata": {},
   "outputs": [],
   "source": [
    "pivoted_data = pd.pivot_table(data, values='museum', index=['date'])#, aggfunc=np.mean)"
   ]
  },
  {
   "cell_type": "code",
   "execution_count": 59,
   "metadata": {},
   "outputs": [
    {
     "data": {
      "image/png": "[encoded data removed]",
      "text/plain": [
       "<Figure size 1600x600 with 2 Axes>"
      ]
     },
     "metadata": {
      "needs_background": "light"
     },
     "output_type": "display_data"
    }
   ],
   "source": [
    "plt.figure(figsize = (16,6))\n",
    "sns.heatmap(pivoted_data, linewidths=1, cmap='YlGn',linecolor='white', square=True)\n",
    "plt.show()"
   ]
  },
  {
   "cell_type": "code",
   "execution_count": 14,
   "metadata": {},
   "outputs": [
    {
     "name": "stdout",
     "output_type": "stream",
     "text": [
      "WARNING: pip is being invoked by an old script wrapper. This will fail in a future version of pip.\n",
      "Please see https://github.com/pypa/pip/issues/5599 for advice on fixing the underlying issue.\n",
      "To avoid this problem you can invoke Python with '-m pip' instead of running pip directly.\n",
      "Collecting calmap\n",
      "  Downloading calmap-0.0.11-py2.py3-none-any.whl.metadata (2.2 kB)\n",
      "Requirement already satisfied: matplotlib in /home/boris/snap/jupyter/common/lib/python3.7/site-packages (from calmap) (3.5.3)\n",
      "Requirement already satisfied: numpy in /home/boris/snap/jupyter/common/lib/python3.7/site-packages (from calmap) (1.21.6)\n",
      "Requirement already satisfied: pandas in /home/boris/snap/jupyter/common/lib/python3.7/site-packages (from calmap) (1.3.5)\n",
      "Requirement already satisfied: cycler>=0.10 in /home/boris/snap/jupyter/common/lib/python3.7/site-packages (from matplotlib->calmap) (0.11.0)\n",
      "Requirement already satisfied: fonttools>=4.22.0 in /home/boris/snap/jupyter/common/lib/python3.7/site-packages (from matplotlib->calmap) (4.38.0)\n",
      "Requirement already satisfied: kiwisolver>=1.0.1 in /home/boris/snap/jupyter/common/lib/python3.7/site-packages (from matplotlib->calmap) (1.4.5)\n",
      "Requirement already satisfied: packaging>=20.0 in /home/boris/snap/jupyter/common/lib/python3.7/site-packages (from matplotlib->calmap) (24.0)\n",
      "Requirement already satisfied: pillow>=6.2.0 in /home/boris/snap/jupyter/common/lib/python3.7/site-packages (from matplotlib->calmap) (9.5.0)\n",
      "Requirement already satisfied: pyparsing>=2.2.1 in /home/boris/snap/jupyter/common/lib/python3.7/site-packages (from matplotlib->calmap) (3.1.2)\n",
      "Requirement already satisfied: python-dateutil>=2.7 in /snap/jupyter/6/lib/python3.7/site-packages (from matplotlib->calmap) (2.8.0)\n",
      "Requirement already satisfied: pytz>=2017.3 in /home/boris/snap/jupyter/common/lib/python3.7/site-packages (from pandas->calmap) (2024.1)\n",
      "Requirement already satisfied: typing-extensions in /home/boris/snap/jupyter/common/lib/python3.7/site-packages (from kiwisolver>=1.0.1->matplotlib->calmap) (4.7.1)\n",
      "Requirement already satisfied: six>=1.5 in /snap/jupyter/6/lib/python3.7/site-packages (from python-dateutil>=2.7->matplotlib->calmap) (1.12.0)\n",
      "Downloading calmap-0.0.11-py2.py3-none-any.whl (7.3 kB)\n",
      "Installing collected packages: calmap\n",
      "Successfully installed calmap-0.0.11\n"
     ]
    }
   ],
   "source": [
    "#Installing and importing the calmap library\n",
    "!pip install calmap\n",
    "#import the library\n",
    "import calmap"
   ]
  },
  {
   "cell_type": "code",
   "execution_count": 60,
   "metadata": {},
   "outputs": [
    {
     "data": {
      "text/plain": [
       "<AxesSubplot:>"
      ]
     },
     "execution_count": 60,
     "metadata": {},
     "output_type": "execute_result"
    },
    {
     "data": {
      "image/png": "[encoded data removed]",
      "text/plain": [
       "<Figure size 2000x1000 with 1 Axes>"
      ]
     },
     "metadata": {
      "needs_background": "light"
     },
     "output_type": "display_data"
    }
   ],
   "source": [
    "#Setting the date_time column as the index\n",
    "data = data.set_index('date')\n",
    "#plotting the calender heatmap for the year 2024\n",
    "plt.figure(figsize=(20,10))\n",
    "calmap.yearplot(data['museum'], cmap='YlGn', fillcolor='lightgrey', daylabels='MTWTFSS', dayticks=[0, 2, 4, 6],\n",
    "               linewidth=2)"
   ]
  },
  {
   "cell_type": "code",
   "execution_count": 53,
   "metadata": {},
   "outputs": [
    {
     "data": {
      "text/html": [
       "<div>\n",
       "<style scoped>\n",
       "    .dataframe tbody tr th:only-of-type {\n",
       "        vertical-align: middle;\n",
       "    }\n",
       "\n",
       "    .dataframe tbody tr th {\n",
       "        vertical-align: top;\n",
       "    }\n",
       "\n",
       "    .dataframe thead th {\n",
       "        text-align: right;\n",
       "    }\n",
       "</style>\n",
       "<table border=\"1\" class=\"dataframe\">\n",
       "  <thead>\n",
       "    <tr style=\"text-align: right;\">\n",
       "      <th></th>\n",
       "      <th>museum</th>\n",
       "      <th>year</th>\n",
       "      <th>month</th>\n",
       "      <th>Weekday</th>\n",
       "    </tr>\n",
       "    <tr>\n",
       "      <th>date</th>\n",
       "      <th></th>\n",
       "      <th></th>\n",
       "      <th></th>\n",
       "      <th></th>\n",
       "    </tr>\n",
       "  </thead>\n",
       "  <tbody>\n",
       "    <tr>\n",
       "      <th>2024-01-01</th>\n",
       "      <td>0</td>\n",
       "      <td>2024</td>\n",
       "      <td>1</td>\n",
       "      <td>Monday</td>\n",
       "    </tr>\n",
       "    <tr>\n",
       "      <th>2024-02-01</th>\n",
       "      <td>0</td>\n",
       "      <td>2024</td>\n",
       "      <td>2</td>\n",
       "      <td>Thursday</td>\n",
       "    </tr>\n",
       "    <tr>\n",
       "      <th>2024-03-01</th>\n",
       "      <td>0</td>\n",
       "      <td>2024</td>\n",
       "      <td>3</td>\n",
       "      <td>Friday</td>\n",
       "    </tr>\n",
       "    <tr>\n",
       "      <th>2024-04-01</th>\n",
       "      <td>0</td>\n",
       "      <td>2024</td>\n",
       "      <td>4</td>\n",
       "      <td>Monday</td>\n",
       "    </tr>\n",
       "    <tr>\n",
       "      <th>2024-05-01</th>\n",
       "      <td>0</td>\n",
       "      <td>2024</td>\n",
       "      <td>5</td>\n",
       "      <td>Wednesday</td>\n",
       "    </tr>\n",
       "  </tbody>\n",
       "</table>\n",
       "</div>"
      ],
      "text/plain": [
       "            museum  year  month    Weekday\n",
       "date                                      \n",
       "2024-01-01       0  2024      1     Monday\n",
       "2024-02-01       0  2024      2   Thursday\n",
       "2024-03-01       0  2024      3     Friday\n",
       "2024-04-01       0  2024      4     Monday\n",
       "2024-05-01       0  2024      5  Wednesday"
      ]
     },
     "execution_count": 53,
     "metadata": {},
     "output_type": "execute_result"
    }
   ],
   "source": [
    "data.head()"
   ]
  },
  {
   "cell_type": "code",
   "execution_count": 29,
   "metadata": {},
   "outputs": [
    {
     "name": "stdout",
     "output_type": "stream",
     "text": [
      "WARNING: pip is being invoked by an old script wrapper. This will fail in a future version of pip.\n",
      "Please see https://github.com/pypa/pip/issues/5599 for advice on fixing the underlying issue.\n",
      "To avoid this problem you can invoke Python with '-m pip' instead of running pip directly.\n",
      "Collecting july\n",
      "  Downloading july-0.1.3-py3-none-any.whl.metadata (4.2 kB)\n",
      "Requirement already satisfied: matplotlib in /home/boris/snap/jupyter/common/lib/python3.7/site-packages (from july) (3.5.3)\n",
      "Requirement already satisfied: numpy in /home/boris/snap/jupyter/common/lib/python3.7/site-packages (from july) (1.21.6)\n",
      "Requirement already satisfied: cycler>=0.10 in /home/boris/snap/jupyter/common/lib/python3.7/site-packages (from matplotlib->july) (0.11.0)\n",
      "Requirement already satisfied: fonttools>=4.22.0 in /home/boris/snap/jupyter/common/lib/python3.7/site-packages (from matplotlib->july) (4.38.0)\n",
      "Requirement already satisfied: kiwisolver>=1.0.1 in /home/boris/snap/jupyter/common/lib/python3.7/site-packages (from matplotlib->july) (1.4.5)\n",
      "Requirement already satisfied: packaging>=20.0 in /home/boris/snap/jupyter/common/lib/python3.7/site-packages (from matplotlib->july) (24.0)\n",
      "Requirement already satisfied: pillow>=6.2.0 in /home/boris/snap/jupyter/common/lib/python3.7/site-packages (from matplotlib->july) (9.5.0)\n",
      "Requirement already satisfied: pyparsing>=2.2.1 in /home/boris/snap/jupyter/common/lib/python3.7/site-packages (from matplotlib->july) (3.1.2)\n",
      "Requirement already satisfied: python-dateutil>=2.7 in /snap/jupyter/6/lib/python3.7/site-packages (from matplotlib->july) (2.8.0)\n",
      "Requirement already satisfied: typing-extensions in /home/boris/snap/jupyter/common/lib/python3.7/site-packages (from kiwisolver>=1.0.1->matplotlib->july) (4.7.1)\n",
      "Requirement already satisfied: six>=1.5 in /snap/jupyter/6/lib/python3.7/site-packages (from python-dateutil>=2.7->matplotlib->july) (1.12.0)\n",
      "Downloading july-0.1.3-py3-none-any.whl (13 kB)\n",
      "Installing collected packages: july\n",
      "Successfully installed july-0.1.3\n"
     ]
    }
   ],
   "source": [
    "!pip install july"
   ]
  },
  {
   "cell_type": "code",
   "execution_count": 30,
   "metadata": {},
   "outputs": [],
   "source": [
    "import july"
   ]
  },
  {
   "cell_type": "code",
   "execution_count": 62,
   "metadata": {},
   "outputs": [
    {
     "data": {
      "text/plain": [
       "<AxesSubplot:title={'center':'Summer Museums'}>"
      ]
     },
     "execution_count": 62,
     "metadata": {},
     "output_type": "execute_result"
    },
    {
     "data": {
      "image/png": "[encoded data removed]",
      "text/plain": [
       "<Figure size 1200x500 with 1 Axes>"
      ]
     },
     "metadata": {
      "needs_background": "light"
     },
     "output_type": "display_data"
    }
   ],
   "source": [
    "july.heatmap(data['date'], data['museum'], title='Summer Museums', cmap=\"github\")"
   ]
  },
  {
   "cell_type": "code",
   "execution_count": null,
   "metadata": {},
   "outputs": [],
   "source": []
  },
  {
   "cell_type": "code",
   "execution_count": null,
   "metadata": {},
   "outputs": [],
   "source": []
  }
 ],
 "metadata": {
  "kernelspec": {
   "display_name": "Python 3",
   "language": "python",
   "name": "python3"
  },
  "language_info": {
   "codemirror_mode": {
    "name": "ipython",
    "version": 3
   },
   "file_extension": ".py",
   "mimetype": "text/x-python",
   "name": "python",
   "nbconvert_exporter": "python",
   "pygments_lexer": "ipython3",
   "version": "3.7.3"
  }
 },
 "nbformat": 4,
 "nbformat_minor": 2
}
